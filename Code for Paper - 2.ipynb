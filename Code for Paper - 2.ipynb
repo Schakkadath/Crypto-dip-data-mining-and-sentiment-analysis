{
 "cells": [
  {
   "cell_type": "code",
   "execution_count": 7,
   "metadata": {
    "scrolled": true
   },
   "outputs": [
    {
     "name": "stdout",
     "output_type": "stream",
     "text": [
      "Requirement already satisfied: snscrape in c:\\users\\sreelaxmi\\appdata\\local\\continuum\\anaconda3\\lib\\site-packages (0.3.4)\n",
      "Requirement already satisfied: beautifulsoup4 in c:\\users\\sreelaxmi\\appdata\\local\\continuum\\anaconda3\\lib\\site-packages (from snscrape) (4.7.1)\n",
      "Requirement already satisfied: requests[socks] in c:\\users\\sreelaxmi\\appdata\\local\\continuum\\anaconda3\\lib\\site-packages (from snscrape) (2.27.1)\n",
      "Requirement already satisfied: lxml in c:\\users\\sreelaxmi\\appdata\\local\\continuum\\anaconda3\\lib\\site-packages (from snscrape) (4.3.2)\n",
      "Requirement already satisfied: soupsieve>=1.2 in c:\\users\\sreelaxmi\\appdata\\local\\continuum\\anaconda3\\lib\\site-packages (from beautifulsoup4->snscrape) (1.8)\n",
      "Requirement already satisfied: certifi>=2017.4.17 in c:\\users\\sreelaxmi\\appdata\\local\\continuum\\anaconda3\\lib\\site-packages (from requests[socks]->snscrape) (2019.3.9)\n",
      "Requirement already satisfied: urllib3<1.27,>=1.21.1 in c:\\users\\sreelaxmi\\appdata\\local\\continuum\\anaconda3\\lib\\site-packages (from requests[socks]->snscrape) (1.24.1)\n",
      "Requirement already satisfied: charset-normalizer~=2.0.0 in c:\\users\\sreelaxmi\\appdata\\local\\continuum\\anaconda3\\lib\\site-packages (from requests[socks]->snscrape) (2.0.12)\n",
      "Requirement already satisfied: idna<4,>=2.5 in c:\\users\\sreelaxmi\\appdata\\local\\continuum\\anaconda3\\lib\\site-packages (from requests[socks]->snscrape) (2.8)\n",
      "Requirement already satisfied: PySocks!=1.5.7,>=1.5.6 in c:\\users\\sreelaxmi\\appdata\\local\\continuum\\anaconda3\\lib\\site-packages (from requests[socks]->snscrape) (1.6.8)\n",
      "Note: you may need to restart the kernel to use updated packages.\n"
     ]
    },
    {
     "name": "stderr",
     "output_type": "stream",
     "text": [
      "WARNING: There was an error checking the latest version of pip.\n"
     ]
    }
   ],
   "source": [
    "pip install snscrape\n"
   ]
  },
  {
   "cell_type": "code",
   "execution_count": 67,
   "metadata": {
    "scrolled": true
   },
   "outputs": [
    {
     "name": "stdout",
     "output_type": "stream",
     "text": [
      "Collecting git+https://github.com/tobe93gf/snscrape\n",
      "  Cloning https://github.com/tobe93gf/snscrape to c:\\users\\sreela~1\\appdata\\local\\temp\\pip-req-build-vbe_sxk9\n",
      "  Resolved https://github.com/tobe93gf/snscrape to commit 31a674d6c110086322644f2c929a119767f8785b\n",
      "  Preparing metadata (setup.py): started\n",
      "  Preparing metadata (setup.py): finished with status 'done'\n",
      "Requirement already satisfied: requests[socks] in c:\\users\\sreelaxmi\\appdata\\local\\continuum\\anaconda3\\lib\\site-packages (from snscrape==0.1.dev25+g31a674d) (2.27.1)\n",
      "Requirement already satisfied: lxml in c:\\users\\sreelaxmi\\appdata\\local\\continuum\\anaconda3\\lib\\site-packages (from snscrape==0.1.dev25+g31a674d) (4.3.2)\n",
      "Requirement already satisfied: beautifulsoup4 in c:\\users\\sreelaxmi\\appdata\\local\\continuum\\anaconda3\\lib\\site-packages (from snscrape==0.1.dev25+g31a674d) (4.7.1)\n",
      "Requirement already satisfied: filelock in c:\\users\\sreelaxmi\\appdata\\local\\continuum\\anaconda3\\lib\\site-packages (from snscrape==0.1.dev25+g31a674d) (3.0.10)\n",
      "Requirement already satisfied: pytz in c:\\users\\sreelaxmi\\appdata\\local\\continuum\\anaconda3\\lib\\site-packages (from snscrape==0.1.dev25+g31a674d) (2018.9)\n",
      "Requirement already satisfied: soupsieve>=1.2 in c:\\users\\sreelaxmi\\appdata\\local\\continuum\\anaconda3\\lib\\site-packages (from beautifulsoup4->snscrape==0.1.dev25+g31a674d) (1.8)\n",
      "Requirement already satisfied: certifi>=2017.4.17 in c:\\users\\sreelaxmi\\appdata\\local\\continuum\\anaconda3\\lib\\site-packages (from requests[socks]->snscrape==0.1.dev25+g31a674d) (2019.3.9)\n",
      "Requirement already satisfied: idna<4,>=2.5 in c:\\users\\sreelaxmi\\appdata\\local\\continuum\\anaconda3\\lib\\site-packages (from requests[socks]->snscrape==0.1.dev25+g31a674d) (2.8)\n",
      "Requirement already satisfied: urllib3<1.27,>=1.21.1 in c:\\users\\sreelaxmi\\appdata\\local\\continuum\\anaconda3\\lib\\site-packages (from requests[socks]->snscrape==0.1.dev25+g31a674d) (1.24.1)\n",
      "Requirement already satisfied: charset-normalizer~=2.0.0 in c:\\users\\sreelaxmi\\appdata\\local\\continuum\\anaconda3\\lib\\site-packages (from requests[socks]->snscrape==0.1.dev25+g31a674d) (2.0.12)\n",
      "Requirement already satisfied: PySocks!=1.5.7,>=1.5.6 in c:\\users\\sreelaxmi\\appdata\\local\\continuum\\anaconda3\\lib\\site-packages (from requests[socks]->snscrape==0.1.dev25+g31a674d) (1.6.8)\n",
      "Building wheels for collected packages: snscrape\n",
      "  Building wheel for snscrape (setup.py): started\n",
      "  Building wheel for snscrape (setup.py): finished with status 'done'\n",
      "  Created wheel for snscrape: filename=snscrape-0.1.dev25+g31a674d-py3-none-any.whl size=62987 sha256=7794b8c7c5a51cb2b548015a789a9678236961d0f1915cb761a098f7d397f3f8\n",
      "  Stored in directory: C:\\Users\\SREELA~1\\AppData\\Local\\Temp\\pip-ephem-wheel-cache-044dsaxb\\wheels\\bc\\65\\2f\\cf0648557cf1f31291dc423c6c8331d3790a0195b70b5414ea\n",
      "Successfully built snscrape\n",
      "Installing collected packages: snscrape\n",
      "  Attempting uninstall: snscrape\n",
      "    Found existing installation: snscrape 0.3.4\n",
      "    Uninstalling snscrape-0.3.4:\n",
      "      Successfully uninstalled snscrape-0.3.4\n",
      "Successfully installed snscrape-0.1.dev25+g31a674d\n",
      "Note: you may need to restart the kernel to use updated packages.\n"
     ]
    },
    {
     "name": "stderr",
     "output_type": "stream",
     "text": [
      "  Running command git clone --filter=blob:none --quiet https://github.com/tobe93gf/snscrape 'C:\\Users\\SREELA~1\\AppData\\Local\\Temp\\pip-req-build-vbe_sxk9'\n",
      "WARNING: There was an error checking the latest version of pip.\n"
     ]
    }
   ],
   "source": [
    "pip install git+https://github.com/tobe93gf/snscrape\n"
   ]
  },
  {
   "cell_type": "code",
   "execution_count": 216,
   "metadata": {},
   "outputs": [],
   "source": [
    "import snscrape.modules.twitter as sntwitter\n",
    "import pandas as pd\n",
    "\n",
    "# Creating list to append tweet data to\n",
    "attributes_container = []\n",
    "\n",
    "# Using TwitterSearchScraper to scrape data and append tweets to list\n",
    "for i,tweet in enumerate(sntwitter.TwitterSearchScraper('#crypto OR #bitcoin OR #blockchain OR #BTC OR #Ethereum OR #ETH since:2022-06-01 until:2022-06-07 lang:en exclude:retweets exclude:replies').get_items()):\n",
    "    if i > 50000:\n",
    "        break\n",
    "    attributes_container.append([tweet.username, tweet.date, tweet.content])\n",
    "    \n",
    "# Creating a dataframe to load the list\n",
    "tweets_df_b = pd.DataFrame(attributes_container, columns=[\"User\", \"Date Created\", \"Tweet\"])"
   ]
  },
  {
   "cell_type": "code",
   "execution_count": 218,
   "metadata": {
    "scrolled": false
   },
   "outputs": [
    {
     "data": {
      "text/html": [
       "<div>\n",
       "<style scoped>\n",
       "    .dataframe tbody tr th:only-of-type {\n",
       "        vertical-align: middle;\n",
       "    }\n",
       "\n",
       "    .dataframe tbody tr th {\n",
       "        vertical-align: top;\n",
       "    }\n",
       "\n",
       "    .dataframe thead th {\n",
       "        text-align: right;\n",
       "    }\n",
       "</style>\n",
       "<table border=\"1\" class=\"dataframe\">\n",
       "  <thead>\n",
       "    <tr style=\"text-align: right;\">\n",
       "      <th></th>\n",
       "      <th>User</th>\n",
       "      <th>Date Created</th>\n",
       "      <th>Tweet</th>\n",
       "    </tr>\n",
       "  </thead>\n",
       "  <tbody>\n",
       "    <tr>\n",
       "      <th>0</th>\n",
       "      <td>LockerToken</td>\n",
       "      <td>2022-06-06 23:59:54+00:00</td>\n",
       "      <td>Colorado has Edmonton on the ropes. Can the Oi...</td>\n",
       "    </tr>\n",
       "    <tr>\n",
       "      <th>1</th>\n",
       "      <td>Sk280488</td>\n",
       "      <td>2022-06-06 23:59:53+00:00</td>\n",
       "      <td>I’m going to @JustAman04’s upcoming Space. Wil...</td>\n",
       "    </tr>\n",
       "    <tr>\n",
       "      <th>2</th>\n",
       "      <td>MeCryptoInsider</td>\n",
       "      <td>2022-06-06 23:59:48+00:00</td>\n",
       "      <td>⚡Octagon Networks Becomes First Cybersecurity ...</td>\n",
       "    </tr>\n",
       "    <tr>\n",
       "      <th>3</th>\n",
       "      <td>cryplogger</td>\n",
       "      <td>2022-06-06 23:59:36+00:00</td>\n",
       "      <td>Bad day for Binance due to SEC investigation a...</td>\n",
       "    </tr>\n",
       "    <tr>\n",
       "      <th>4</th>\n",
       "      <td>MoKittyBot</td>\n",
       "      <td>2022-06-06 23:59:31+00:00</td>\n",
       "      <td>Here's the current standings for #unMineable's...</td>\n",
       "    </tr>\n",
       "  </tbody>\n",
       "</table>\n",
       "</div>"
      ],
      "text/plain": [
       "              User              Date Created  \\\n",
       "0      LockerToken 2022-06-06 23:59:54+00:00   \n",
       "1         Sk280488 2022-06-06 23:59:53+00:00   \n",
       "2  MeCryptoInsider 2022-06-06 23:59:48+00:00   \n",
       "3       cryplogger 2022-06-06 23:59:36+00:00   \n",
       "4       MoKittyBot 2022-06-06 23:59:31+00:00   \n",
       "\n",
       "                                               Tweet  \n",
       "0  Colorado has Edmonton on the ropes. Can the Oi...  \n",
       "1  I’m going to @JustAman04’s upcoming Space. Wil...  \n",
       "2  ⚡Octagon Networks Becomes First Cybersecurity ...  \n",
       "3  Bad day for Binance due to SEC investigation a...  \n",
       "4  Here's the current standings for #unMineable's...  "
      ]
     },
     "execution_count": 218,
     "metadata": {},
     "output_type": "execute_result"
    }
   ],
   "source": [
    "tweets_df.head()"
   ]
  },
  {
   "cell_type": "code",
   "execution_count": null,
   "metadata": {},
   "outputs": [],
   "source": [
    "tweets_df.append(tweets_df_b)"
   ]
  },
  {
   "cell_type": "code",
   "execution_count": 112,
   "metadata": {},
   "outputs": [],
   "source": [
    "tweets_df.to_csv('All_tweets_JuneWeek1.csv', sep=',', index=False)"
   ]
  },
  {
   "cell_type": "code",
   "execution_count": 113,
   "metadata": {
    "scrolled": true
   },
   "outputs": [],
   "source": [
    "tweets_df2 = tweets_df.copy()"
   ]
  },
  {
   "cell_type": "code",
   "execution_count": 114,
   "metadata": {
    "scrolled": true
   },
   "outputs": [],
   "source": [
    "tweets_df2 = tweets_df2.sample(n = 1000)"
   ]
  },
  {
   "cell_type": "code",
   "execution_count": 115,
   "metadata": {},
   "outputs": [],
   "source": [
    "tweets_df2.to_csv('Filtered_tweets_JuneWeek1.csv', sep=',', index=False)"
   ]
  },
  {
   "cell_type": "code",
   "execution_count": 116,
   "metadata": {
    "scrolled": true
   },
   "outputs": [
    {
     "data": {
      "text/html": [
       "<div>\n",
       "<style scoped>\n",
       "    .dataframe tbody tr th:only-of-type {\n",
       "        vertical-align: middle;\n",
       "    }\n",
       "\n",
       "    .dataframe tbody tr th {\n",
       "        vertical-align: top;\n",
       "    }\n",
       "\n",
       "    .dataframe thead th {\n",
       "        text-align: right;\n",
       "    }\n",
       "</style>\n",
       "<table border=\"1\" class=\"dataframe\">\n",
       "  <thead>\n",
       "    <tr style=\"text-align: right;\">\n",
       "      <th></th>\n",
       "      <th>User</th>\n",
       "      <th>Date Created</th>\n",
       "      <th>Tweet</th>\n",
       "      <th>UserType</th>\n",
       "    </tr>\n",
       "  </thead>\n",
       "  <tbody>\n",
       "    <tr>\n",
       "      <th>9091</th>\n",
       "      <td>CryptoGeezerUk</td>\n",
       "      <td>2022-06-03 17:48:23+00:00</td>\n",
       "      <td>JUST IN: 🇧🇷 Brazilian soccer team Sao Paulo FC...</td>\n",
       "      <td>Crypto Guru</td>\n",
       "    </tr>\n",
       "    <tr>\n",
       "      <th>9486</th>\n",
       "      <td>MaximilianShare</td>\n",
       "      <td>2022-06-03 15:03:24+00:00</td>\n",
       "      <td>NOTIZIE CRYPTO da https://t.co/F252vGn1K9\\n[#c...</td>\n",
       "      <td>General Public</td>\n",
       "    </tr>\n",
       "    <tr>\n",
       "      <th>11366</th>\n",
       "      <td>lisaownet</td>\n",
       "      <td>2022-06-02 23:59:02+00:00</td>\n",
       "      <td>I also invited @Mashaownet to install Sweat to...</td>\n",
       "      <td>General Public</td>\n",
       "    </tr>\n",
       "    <tr>\n",
       "      <th>2609</th>\n",
       "      <td>cryptox_gg</td>\n",
       "      <td>2022-06-06 07:03:48+00:00</td>\n",
       "      <td>The first #BTC green candle for a while, which...</td>\n",
       "      <td>Crypto Guru</td>\n",
       "    </tr>\n",
       "    <tr>\n",
       "      <th>10783</th>\n",
       "      <td>vicconsult</td>\n",
       "      <td>2022-06-03 06:02:30+00:00</td>\n",
       "      <td>#Crypto Whale Transfer Alert: 400 #BTC [$12,24...</td>\n",
       "      <td>General Public</td>\n",
       "    </tr>\n",
       "  </tbody>\n",
       "</table>\n",
       "</div>"
      ],
      "text/plain": [
       "                  User              Date Created  \\\n",
       "9091    CryptoGeezerUk 2022-06-03 17:48:23+00:00   \n",
       "9486   MaximilianShare 2022-06-03 15:03:24+00:00   \n",
       "11366        lisaownet 2022-06-02 23:59:02+00:00   \n",
       "2609        cryptox_gg 2022-06-06 07:03:48+00:00   \n",
       "10783       vicconsult 2022-06-03 06:02:30+00:00   \n",
       "\n",
       "                                                   Tweet        UserType  \n",
       "9091   JUST IN: 🇧🇷 Brazilian soccer team Sao Paulo FC...     Crypto Guru  \n",
       "9486   NOTIZIE CRYPTO da https://t.co/F252vGn1K9\\n[#c...  General Public  \n",
       "11366  I also invited @Mashaownet to install Sweat to...  General Public  \n",
       "2609   The first #BTC green candle for a while, which...     Crypto Guru  \n",
       "10783  #Crypto Whale Transfer Alert: 400 #BTC [$12,24...  General Public  "
      ]
     },
     "execution_count": 116,
     "metadata": {},
     "output_type": "execute_result"
    }
   ],
   "source": [
    "tweets_df2.head()"
   ]
  },
  {
   "cell_type": "code",
   "execution_count": 117,
   "metadata": {},
   "outputs": [],
   "source": [
    "df = tweets_df2.copy()"
   ]
  },
  {
   "cell_type": "code",
   "execution_count": 148,
   "metadata": {},
   "outputs": [],
   "source": [
    "import matplotlib as plt"
   ]
  },
  {
   "cell_type": "code",
   "execution_count": 130,
   "metadata": {
    "scrolled": true
   },
   "outputs": [
    {
     "name": "stderr",
     "output_type": "stream",
     "text": [
      "C:\\Users\\Sreelaxmi\\AppData\\Local\\Continuum\\anaconda3\\lib\\site-packages\\sklearn\\utils\\validation.py:37: DeprecationWarning: distutils Version classes are deprecated. Use packaging.version instead.\n",
      "  LARGE_SPARSE_SUPPORTED = LooseVersion(scipy_version) >= '0.14.0'\n"
     ]
    }
   ],
   "source": [
    "import numpy as np\n",
    "import re\n",
    "from textblob import TextBlob"
   ]
  },
  {
   "cell_type": "code",
   "execution_count": 155,
   "metadata": {},
   "outputs": [],
   "source": [
    "df['UserType'] = np.where(df['User'].str.contains(\"crypto|Crypto|CRYPTO|BITCOIN|bitcoin|Bitcoin|coin|Coin|COIN|Crypt|CRYPT|crypt|blockchain|BLOCKCHAIN|Blockchain|BTC|Ethereum|ETH\"), \"Crypto Guru\", \"General Public\") "
   ]
  },
  {
   "cell_type": "code",
   "execution_count": 157,
   "metadata": {},
   "outputs": [],
   "source": [
    "df[['User', 'UserType']].to_csv(\"usertype.csv\",sep=',', index=False)"
   ]
  },
  {
   "cell_type": "code",
   "execution_count": 158,
   "metadata": {},
   "outputs": [
    {
     "name": "stderr",
     "output_type": "stream",
     "text": [
      "[nltk_data] Downloading package stopwords to\n",
      "[nltk_data]     C:\\Users\\Sreelaxmi\\AppData\\Roaming\\nltk_data...\n",
      "[nltk_data]   Package stopwords is already up-to-date!\n"
     ]
    }
   ],
   "source": [
    "#Create a function to clean the tweets\n",
    "def cleantweets(text):\n",
    "    text = re.sub(r'@[A-Za-z0-9]+','',text) # Removed @mentions\n",
    "    text = re.sub(r'#','',text) #Removing the # symbols\n",
    "    text = re.sub(r'RT[\\s]+','',text) #Removing RT\n",
    "    text = re.sub(r'https?:\\/\\/\\S+','', text) # Removing the hyper link\n",
    "    text = re.sub(r':','',text) #Removing the : symbols\n",
    "    return text\n",
    "\n",
    "# Create a function to get the subjectivity\n",
    "def getSubjectivity(text):\n",
    "    return TextBlob(text).sentiment.subjectivity\n",
    "\n",
    "# Create a function to get the polarity\n",
    "def getPolarity(text):\n",
    "    return TextBlob(text).sentiment.polarity\n",
    "\n",
    "import nltk\n",
    "from nltk.corpus import stopwords\n",
    "nltk.download('stopwords')\n",
    "stop = stopwords.words('english')\n",
    "\n",
    "def remove_stopwords(text):\n",
    "    text = [word.lower() for word in text.split() if word.lower() not in stop]\n",
    "    # joining the list of words with space separator\n",
    "    return \" \".join(text)  \n",
    "\n",
    "def remove_punctuation(text):\n",
    "    # Your Code Here\n",
    "    import string\n",
    "    # replacing the punctuation with no space, which in effect deletes the punctuation marks\n",
    "    translator = str.maketrans('', '', string.punctuation)\n",
    "    # return the text stripped of punctuation marks\n",
    "    return text.translate(translator)\n",
    "\n",
    "def remove_emoticons(text):\n",
    "    text = re.sub('<[^>]*>', '', text)\n",
    "    emoticons = re.findall('(?::|;|=)(?:-)?(?:\\)|\\(|D|P)', text)\n",
    "    text = re.sub('[\\W]+', ' ', text.lower()) +\\\n",
    "        ' '.join(emoticons).replace('-', '')\n",
    "    return text\n",
    "\n"
   ]
  },
  {
   "cell_type": "code",
   "execution_count": 159,
   "metadata": {},
   "outputs": [],
   "source": [
    "#Cleaning the text\n",
    "df['Tweet'] = df['Tweet'].apply(cleantweets).apply(remove_punctuation).apply(remove_stopwords).apply(remove_emoticons)\n",
    "\n",
    "# Create two new columns\n",
    "df['Subjectivity'] = df['Tweet'].apply(getSubjectivity)\n",
    "df['Polarity'] = df['Tweet'].apply(getPolarity)"
   ]
  },
  {
   "cell_type": "code",
   "execution_count": 160,
   "metadata": {},
   "outputs": [],
   "source": [
    "def getAnalysis(score):\n",
    "    if score < 0:\n",
    "        return 0\n",
    "    elif score == 0:\n",
    "        return 0\n",
    "    else:\n",
    "        return 1\n",
    "        \n",
    "        \n",
    "df['Analysis'] = df['Polarity'].apply(getAnalysis) #1 for positive tweets and 0 for negative tweets"
   ]
  },
  {
   "cell_type": "code",
   "execution_count": 223,
   "metadata": {
    "scrolled": true
   },
   "outputs": [
    {
     "data": {
      "text/html": [
       "<div>\n",
       "<style scoped>\n",
       "    .dataframe tbody tr th:only-of-type {\n",
       "        vertical-align: middle;\n",
       "    }\n",
       "\n",
       "    .dataframe tbody tr th {\n",
       "        vertical-align: top;\n",
       "    }\n",
       "\n",
       "    .dataframe thead th {\n",
       "        text-align: right;\n",
       "    }\n",
       "</style>\n",
       "<table border=\"1\" class=\"dataframe\">\n",
       "  <thead>\n",
       "    <tr style=\"text-align: right;\">\n",
       "      <th></th>\n",
       "      <th>User</th>\n",
       "      <th>Date Created</th>\n",
       "      <th>Tweet</th>\n",
       "      <th>UserType</th>\n",
       "      <th>Subjectivity</th>\n",
       "      <th>Polarity</th>\n",
       "      <th>Analysis</th>\n",
       "    </tr>\n",
       "  </thead>\n",
       "  <tbody>\n",
       "    <tr>\n",
       "      <th>9091</th>\n",
       "      <td>CryptoGeezerUk</td>\n",
       "      <td>2022-06-03 17:48:23+00:00</td>\n",
       "      <td>brazilian soccer team sao paulo fc accepting b...</td>\n",
       "      <td>Crypto Guru</td>\n",
       "      <td>0.000000</td>\n",
       "      <td>0.000000</td>\n",
       "      <td>0</td>\n",
       "    </tr>\n",
       "    <tr>\n",
       "      <th>9486</th>\n",
       "      <td>MaximilianShare</td>\n",
       "      <td>2022-06-03 15:03:24+00:00</td>\n",
       "      <td>notizie crypto da crypto bitcoin cryptocurrenc...</td>\n",
       "      <td>General Public</td>\n",
       "      <td>0.000000</td>\n",
       "      <td>0.000000</td>\n",
       "      <td>0</td>\n",
       "    </tr>\n",
       "    <tr>\n",
       "      <th>11366</th>\n",
       "      <td>lisaownet</td>\n",
       "      <td>2022-06-02 23:59:02+00:00</td>\n",
       "      <td>also invited install sweat today lets meet con...</td>\n",
       "      <td>General Public</td>\n",
       "      <td>0.000000</td>\n",
       "      <td>0.000000</td>\n",
       "      <td>0</td>\n",
       "    </tr>\n",
       "    <tr>\n",
       "      <th>2609</th>\n",
       "      <td>cryptox_gg</td>\n",
       "      <td>2022-06-06 07:03:48+00:00</td>\n",
       "      <td>first btc green candle nice see also looks lik...</td>\n",
       "      <td>Crypto Guru</td>\n",
       "      <td>0.544444</td>\n",
       "      <td>0.216667</td>\n",
       "      <td>1</td>\n",
       "    </tr>\n",
       "    <tr>\n",
       "      <th>10783</th>\n",
       "      <td>vicconsult</td>\n",
       "      <td>2022-06-03 06:02:30+00:00</td>\n",
       "      <td>crypto whale transfer alert 400 btc 12241244 t...</td>\n",
       "      <td>General Public</td>\n",
       "      <td>0.600000</td>\n",
       "      <td>-0.100000</td>\n",
       "      <td>0</td>\n",
       "    </tr>\n",
       "  </tbody>\n",
       "</table>\n",
       "</div>"
      ],
      "text/plain": [
       "                  User              Date Created  \\\n",
       "9091    CryptoGeezerUk 2022-06-03 17:48:23+00:00   \n",
       "9486   MaximilianShare 2022-06-03 15:03:24+00:00   \n",
       "11366        lisaownet 2022-06-02 23:59:02+00:00   \n",
       "2609        cryptox_gg 2022-06-06 07:03:48+00:00   \n",
       "10783       vicconsult 2022-06-03 06:02:30+00:00   \n",
       "\n",
       "                                                   Tweet        UserType  \\\n",
       "9091   brazilian soccer team sao paulo fc accepting b...     Crypto Guru   \n",
       "9486   notizie crypto da crypto bitcoin cryptocurrenc...  General Public   \n",
       "11366  also invited install sweat today lets meet con...  General Public   \n",
       "2609   first btc green candle nice see also looks lik...     Crypto Guru   \n",
       "10783  crypto whale transfer alert 400 btc 12241244 t...  General Public   \n",
       "\n",
       "       Subjectivity  Polarity  Analysis  \n",
       "9091       0.000000  0.000000         0  \n",
       "9486       0.000000  0.000000         0  \n",
       "11366      0.000000  0.000000         0  \n",
       "2609       0.544444  0.216667         1  \n",
       "10783      0.600000 -0.100000         0  "
      ]
     },
     "execution_count": 223,
     "metadata": {},
     "output_type": "execute_result"
    }
   ],
   "source": [
    "df.head()"
   ]
  },
  {
   "cell_type": "code",
   "execution_count": 224,
   "metadata": {},
   "outputs": [
    {
     "data": {
      "text/plain": [
       "34.5"
      ]
     },
     "execution_count": 224,
     "metadata": {},
     "output_type": "execute_result"
    }
   ],
   "source": [
    "ptweets = df[df.Analysis == 1]\n",
    "ptweets = ptweets['Tweet']\n",
    "\n",
    "round((ptweets.shape[0]/df.shape[0])*100,1)"
   ]
  },
  {
   "cell_type": "code",
   "execution_count": 225,
   "metadata": {},
   "outputs": [
    {
     "data": {
      "text/plain": [
       "65.5"
      ]
     },
     "execution_count": 225,
     "metadata": {},
     "output_type": "execute_result"
    }
   ],
   "source": [
    "ntweets = df[df.Analysis == 0]\n",
    "ntweets = ntweets['Tweet']\n",
    "\n",
    "round((ntweets.shape[0]/df.shape[0])*100,1)"
   ]
  },
  {
   "cell_type": "code",
   "execution_count": 226,
   "metadata": {},
   "outputs": [],
   "source": [
    "CryptoGuru = df.loc[df['UserType']== 'Crypto Guru']"
   ]
  },
  {
   "cell_type": "code",
   "execution_count": 227,
   "metadata": {},
   "outputs": [],
   "source": [
    "GeneralPublic = df.loc[df['UserType']== 'General Public']"
   ]
  },
  {
   "cell_type": "code",
   "execution_count": 230,
   "metadata": {},
   "outputs": [
    {
     "data": {
      "text/plain": [
       "24.1"
      ]
     },
     "execution_count": 230,
     "metadata": {},
     "output_type": "execute_result"
    }
   ],
   "source": [
    "ptweets = CryptoGuru[CryptoGuru.Analysis == 1]\n",
    "ptweets = ptweets['Tweet']\n",
    "\n",
    "round((ptweets.shape[0]/CryptoGuru.shape[0])*100,1)"
   ]
  },
  {
   "cell_type": "code",
   "execution_count": 231,
   "metadata": {},
   "outputs": [
    {
     "data": {
      "text/plain": [
       "75.9"
      ]
     },
     "execution_count": 231,
     "metadata": {},
     "output_type": "execute_result"
    }
   ],
   "source": [
    "ntweets = CryptoGuru[CryptoGuru.Analysis == 0]\n",
    "ntweets = ntweets['Tweet']\n",
    "\n",
    "round((ntweets.shape[0]/CryptoGuru.shape[0])*100,1)"
   ]
  },
  {
   "cell_type": "code",
   "execution_count": 232,
   "metadata": {},
   "outputs": [
    {
     "data": {
      "text/plain": [
       "41.4"
      ]
     },
     "execution_count": 232,
     "metadata": {},
     "output_type": "execute_result"
    }
   ],
   "source": [
    "ptweets = GeneralPublic[GeneralPublic.Analysis == 1]\n",
    "ptweets = ptweets['Tweet']\n",
    "\n",
    "round((ptweets.shape[0]/GeneralPublic.shape[0])*100,1)"
   ]
  },
  {
   "cell_type": "code",
   "execution_count": 233,
   "metadata": {},
   "outputs": [
    {
     "data": {
      "text/plain": [
       "58.6"
      ]
     },
     "execution_count": 233,
     "metadata": {},
     "output_type": "execute_result"
    }
   ],
   "source": [
    "ntweets = GeneralPublic[GeneralPublic.Analysis == 0]\n",
    "ntweets = ntweets['Tweet']\n",
    "\n",
    "round((ntweets.shape[0]/GeneralPublic.shape[0])*100,1)"
   ]
  },
  {
   "cell_type": "code",
   "execution_count": 172,
   "metadata": {
    "scrolled": true
   },
   "outputs": [
    {
     "name": "stderr",
     "output_type": "stream",
     "text": [
      "C:\\Users\\Sreelaxmi\\AppData\\Local\\Continuum\\anaconda3\\lib\\site-packages\\pandas\\core\\generic.py:6586: SettingWithCopyWarning: \n",
      "A value is trying to be set on a copy of a slice from a DataFrame\n",
      "\n",
      "See the caveats in the documentation: http://pandas.pydata.org/pandas-docs/stable/indexing.html#indexing-view-versus-copy\n",
      "  self._update_inplace(new_data)\n"
     ]
    },
    {
     "data": {
      "text/plain": [
       "<function matplotlib.pyplot.show(*args, **kw)>"
      ]
     },
     "execution_count": 172,
     "metadata": {},
     "output_type": "execute_result"
    },
    {
     "data": {
      "image/png": "[encoded data removed]",
      "text/plain": [
       "<Figure size 432x288 with 1 Axes>"
      ]
     },
     "metadata": {
      "needs_background": "light"
     },
     "output_type": "display_data"
    }
   ],
   "source": [
    "CryptoGuru['UserType'].value_counts()\n",
    "CryptoGuru['Analysis'].replace(to_replace = 0, value = \"Negative\", inplace = True)\n",
    "CryptoGuru['Analysis'].replace(to_replace = 1, value = \"Positive\", inplace = True)\n",
    "\n",
    "                   \n",
    "#plot and visualize the counts\n",
    "plt.title('Distribution of Crypto Guru Tweets')\n",
    "plt.xlabel('Sentiment')\n",
    "plt.ylabel('Counts')\n",
    "CryptoGuru['Analysis'].value_counts().plot(kind='bar')\n",
    "plt.show"
   ]
  },
  {
   "cell_type": "code",
   "execution_count": 173,
   "metadata": {},
   "outputs": [
    {
     "name": "stderr",
     "output_type": "stream",
     "text": [
      "C:\\Users\\Sreelaxmi\\AppData\\Local\\Continuum\\anaconda3\\lib\\site-packages\\pandas\\core\\generic.py:6586: SettingWithCopyWarning: \n",
      "A value is trying to be set on a copy of a slice from a DataFrame\n",
      "\n",
      "See the caveats in the documentation: http://pandas.pydata.org/pandas-docs/stable/indexing.html#indexing-view-versus-copy\n",
      "  self._update_inplace(new_data)\n"
     ]
    },
    {
     "data": {
      "text/plain": [
       "<function matplotlib.pyplot.show(*args, **kw)>"
      ]
     },
     "execution_count": 173,
     "metadata": {},
     "output_type": "execute_result"
    },
    {
     "data": {
      "image/png": "[encoded data removed]",
      "text/plain": [
       "<Figure size 432x288 with 1 Axes>"
      ]
     },
     "metadata": {
      "needs_background": "light"
     },
     "output_type": "display_data"
    }
   ],
   "source": [
    "GeneralPublic['UserType'].value_counts()\n",
    "GeneralPublic['Analysis'].replace(to_replace = 0, value = \"Negative\", inplace = True)\n",
    "GeneralPublic['Analysis'].replace(to_replace = 1, value = \"Positive\", inplace = True)\n",
    "\n",
    "                   \n",
    "#plot and visualize the counts\n",
    "plt.title('Distribution of General Public Tweets')\n",
    "plt.xlabel('Sentiment')\n",
    "plt.ylabel('Counts')\n",
    "CryptoGuru['Analysis'].value_counts().plot(kind='bar')\n",
    "plt.show"
   ]
  },
  {
   "cell_type": "code",
   "execution_count": 146,
   "metadata": {},
   "outputs": [],
   "source": [
    "positive_tweets = df.loc[df['Analysis']== 1]"
   ]
  },
  {
   "cell_type": "code",
   "execution_count": 182,
   "metadata": {},
   "outputs": [],
   "source": [
    "import matplotlib.pyplot as plt \n",
    "import seaborn as sns"
   ]
  },
  {
   "cell_type": "code",
   "execution_count": 152,
   "metadata": {},
   "outputs": [
    {
     "data": {
      "text/plain": [
       "<function matplotlib.pyplot.show(*args, **kw)>"
      ]
     },
     "execution_count": 152,
     "metadata": {},
     "output_type": "execute_result"
    },
    {
     "data": {
      "image/png": "[encoded data removed]",
      "text/plain": [
       "<Figure size 432x288 with 1 Axes>"
      ]
     },
     "metadata": {
      "needs_background": "light"
     },
     "output_type": "display_data"
    }
   ],
   "source": [
    "positive_tweets['UserType'].value_counts()\n",
    "\n",
    "#plot and visualize the counts\n",
    "plt.title('Distribution of Positive Tweets')\n",
    "\n",
    "positive_tweets['UserType'].value_counts().plot(kind='bar')\n",
    "plt.show"
   ]
  },
  {
   "cell_type": "code",
   "execution_count": 153,
   "metadata": {},
   "outputs": [],
   "source": [
    "negative_tweets = df.loc[df['Analysis']== 0]"
   ]
  },
  {
   "cell_type": "code",
   "execution_count": 154,
   "metadata": {},
   "outputs": [
    {
     "data": {
      "text/plain": [
       "<function matplotlib.pyplot.show(*args, **kw)>"
      ]
     },
     "execution_count": 154,
     "metadata": {},
     "output_type": "execute_result"
    },
    {
     "data": {
      "image/png": "[encoded data removed]",
      "text/plain": [
       "<Figure size 432x288 with 1 Axes>"
      ]
     },
     "metadata": {
      "needs_background": "light"
     },
     "output_type": "display_data"
    }
   ],
   "source": [
    "# Show the value counts\n",
    "negative_tweets['UserType'].value_counts()\n",
    "\n",
    "#plot and visualize the counts\n",
    "plt.title('Distribution of Negative Tweets')\n",
    "plt.xlabel('Sentiment')\n",
    "plt.ylabel('Counts')\n",
    "negative_tweets['UserType'].value_counts().plot(kind='bar')\n",
    "plt.show"
   ]
  },
  {
   "cell_type": "code",
   "execution_count": 177,
   "metadata": {},
   "outputs": [
    {
     "data": {
      "text/plain": [
       "<function matplotlib.pyplot.show(*args, **kw)>"
      ]
     },
     "execution_count": 177,
     "metadata": {},
     "output_type": "execute_result"
    },
    {
     "data": {
      "image/png": "[encoded data removed]",
      "text/plain": [
       "<Figure size 432x288 with 1 Axes>"
      ]
     },
     "metadata": {},
     "output_type": "display_data"
    }
   ],
   "source": [
    "# Show the value counts\n",
    "negative_tweets['UserType'].value_counts()\n",
    "\n",
    "#plot and visualize the counts\n",
    "plt.title('Distribution of Negative Tweets')\n",
    "negative_tweets['UserType'].value_counts().plot(kind='pie')\n",
    "plt.show"
   ]
  },
  {
   "cell_type": "code",
   "execution_count": 176,
   "metadata": {},
   "outputs": [
    {
     "data": {
      "text/plain": [
       "<function matplotlib.pyplot.show(*args, **kw)>"
      ]
     },
     "execution_count": 176,
     "metadata": {},
     "output_type": "execute_result"
    },
    {
     "data": {
      "image/png": "[encoded data removed]",
      "text/plain": [
       "<Figure size 432x288 with 1 Axes>"
      ]
     },
     "metadata": {},
     "output_type": "display_data"
    }
   ],
   "source": [
    "positive_tweets['UserType'].value_counts()\n",
    "\n",
    "#plot and visualize the counts\n",
    "plt.title('Distribution of Positive Tweets')\n",
    "\n",
    "positive_tweets['UserType'].value_counts().plot(kind='pie')\n",
    "plt.show"
   ]
  },
  {
   "cell_type": "code",
   "execution_count": 195,
   "metadata": {},
   "outputs": [],
   "source": [
    "positive_tweetsdf = positive_tweets['UserType'].value_counts().rename_axis('UserType').reset_index(name='count')"
   ]
  },
  {
   "cell_type": "code",
   "execution_count": 196,
   "metadata": {},
   "outputs": [
    {
     "data": {
      "text/html": [
       "<div>\n",
       "<style scoped>\n",
       "    .dataframe tbody tr th:only-of-type {\n",
       "        vertical-align: middle;\n",
       "    }\n",
       "\n",
       "    .dataframe tbody tr th {\n",
       "        vertical-align: top;\n",
       "    }\n",
       "\n",
       "    .dataframe thead th {\n",
       "        text-align: right;\n",
       "    }\n",
       "</style>\n",
       "<table border=\"1\" class=\"dataframe\">\n",
       "  <thead>\n",
       "    <tr style=\"text-align: right;\">\n",
       "      <th></th>\n",
       "      <th>UserType</th>\n",
       "      <th>count</th>\n",
       "    </tr>\n",
       "  </thead>\n",
       "  <tbody>\n",
       "    <tr>\n",
       "      <th>0</th>\n",
       "      <td>General Public</td>\n",
       "      <td>250</td>\n",
       "    </tr>\n",
       "    <tr>\n",
       "      <th>1</th>\n",
       "      <td>Crypto Guru</td>\n",
       "      <td>96</td>\n",
       "    </tr>\n",
       "  </tbody>\n",
       "</table>\n",
       "</div>"
      ],
      "text/plain": [
       "         UserType  count\n",
       "0  General Public    250\n",
       "1     Crypto Guru     96"
      ]
     },
     "execution_count": 196,
     "metadata": {},
     "output_type": "execute_result"
    }
   ],
   "source": [
    "positive_tweetsdf"
   ]
  },
  {
   "cell_type": "code",
   "execution_count": 212,
   "metadata": {},
   "outputs": [
    {
     "data": {
      "image/png": "[encoded data removed]",
      "text/plain": [
       "<Figure size 432x288 with 1 Axes>"
      ]
     },
     "metadata": {},
     "output_type": "display_data"
    }
   ],
   "source": [
    "palette_color = sns.color_palette(\"Paired\")\n",
    "  \n",
    "# plotting data on chart\n",
    "plt.pie(positive_tweetsdf['count'], labels = positive_tweetsdf['UserType'] ,colors=palette_color, autopct='%.0f%%')\n",
    "plt.title('Distribution of Positive Tweets')\n",
    "plt.savefig('Distibution of positive tweets.png')\n",
    "# displaying chart\n",
    "plt.show()\n"
   ]
  },
  {
   "cell_type": "code",
   "execution_count": 208,
   "metadata": {},
   "outputs": [],
   "source": [
    "negative_tweetsdf = negative_tweets['UserType'].value_counts().rename_axis('UserType').reset_index(name='count')\n"
   ]
  },
  {
   "cell_type": "code",
   "execution_count": 209,
   "metadata": {},
   "outputs": [
    {
     "data": {
      "text/html": [
       "<div>\n",
       "<style scoped>\n",
       "    .dataframe tbody tr th:only-of-type {\n",
       "        vertical-align: middle;\n",
       "    }\n",
       "\n",
       "    .dataframe tbody tr th {\n",
       "        vertical-align: top;\n",
       "    }\n",
       "\n",
       "    .dataframe thead th {\n",
       "        text-align: right;\n",
       "    }\n",
       "</style>\n",
       "<table border=\"1\" class=\"dataframe\">\n",
       "  <thead>\n",
       "    <tr style=\"text-align: right;\">\n",
       "      <th></th>\n",
       "      <th>UserType</th>\n",
       "      <th>count</th>\n",
       "    </tr>\n",
       "  </thead>\n",
       "  <tbody>\n",
       "    <tr>\n",
       "      <th>0</th>\n",
       "      <td>General Public</td>\n",
       "      <td>352</td>\n",
       "    </tr>\n",
       "    <tr>\n",
       "      <th>1</th>\n",
       "      <td>Crypto Guru</td>\n",
       "      <td>302</td>\n",
       "    </tr>\n",
       "  </tbody>\n",
       "</table>\n",
       "</div>"
      ],
      "text/plain": [
       "         UserType  count\n",
       "0  General Public    352\n",
       "1     Crypto Guru    302"
      ]
     },
     "execution_count": 209,
     "metadata": {},
     "output_type": "execute_result"
    }
   ],
   "source": [
    "negative_tweetsdf"
   ]
  },
  {
   "cell_type": "code",
   "execution_count": 213,
   "metadata": {},
   "outputs": [
    {
     "data": {
      "image/png": "[encoded data removed]",
      "text/plain": [
       "<Figure size 432x288 with 1 Axes>"
      ]
     },
     "metadata": {},
     "output_type": "display_data"
    }
   ],
   "source": [
    "palette_color = sns.color_palette(\"Paired\")\n",
    "  \n",
    "# plotting data on chart\n",
    "plt.pie(negative_tweetsdf['count'], labels = negative_tweetsdf['UserType'] ,colors=palette_color, autopct='%.0f%%')\n",
    "plt.title('Distribution of Negative Tweets')\n",
    "plt.savefig('Distibution of negative tweets.png')\n",
    "\n",
    "# displaying chart\n",
    "plt.show()"
   ]
  },
  {
   "cell_type": "code",
   "execution_count": null,
   "metadata": {},
   "outputs": [],
   "source": []
  }
 ],
 "metadata": {
  "kernelspec": {
   "display_name": "Python 3",
   "language": "python",
   "name": "python3"
  },
  "language_info": {
   "codemirror_mode": {
    "name": "ipython",
    "version": 3
   },
   "file_extension": ".py",
   "mimetype": "text/x-python",
   "name": "python",
   "nbconvert_exporter": "python",
   "pygments_lexer": "ipython3",
   "version": "3.7.3"
  }
 },
 "nbformat": 4,
 "nbformat_minor": 2
}
